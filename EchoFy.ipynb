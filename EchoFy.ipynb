{
 "cells": [
  {
   "cell_type": "code",
   "execution_count": null,
   "id": "66db268a-b6d6-42b1-bf59-28e321ebb11d",
   "metadata": {},
   "outputs": [],
   "source": [
    "print(\"Lets start\")"
   ]
  },
  {
   "cell_type": "code",
   "execution_count": null,
   "id": "1e28c1c3-c0e3-43a8-af11-377823d33cb6",
   "metadata": {},
   "outputs": [],
   "source": []
  },
  {
   "cell_type": "code",
   "execution_count": null,
   "id": "067c85fc-2ba3-4fc1-9476-ec2f444e2007",
   "metadata": {},
   "outputs": [],
   "source": []
  }
 ],
 "metadata": {
  "kernelspec": {
   "display_name": "",
   "name": ""
  },
  "language_info": {
   "name": ""
  }
 },
 "nbformat": 4,
 "nbformat_minor": 5
}
